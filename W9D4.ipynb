{
 "cells": [
  {
   "cell_type": "code",
   "execution_count": null,
   "id": "19c43f14-83c6-4242-957d-9f3781482e9b",
   "metadata": {},
   "outputs": [],
   "source": [
    "Esercizio\n",
    "Stampare a video tutti i numeri da 0 a 20 utilizzando il costrutto while.\n",
    "Utilizzeremo:\n",
    "• un ciclo while\n",
    "• la funzione print()\n",
    "• una variabile, che dovrà essere inizializzata\n",
    "• una procedura di incremento"
   ]
  },
  {
   "cell_type": "code",
   "execution_count": 1,
   "id": "3be03a3d-bba3-449b-b7c7-1562bfd47cd0",
   "metadata": {},
   "outputs": [
    {
     "name": "stdout",
     "output_type": "stream",
     "text": [
      "Totale= 1\n",
      "Totale= 2\n",
      "Totale= 3\n",
      "Totale= 4\n",
      "Totale= 5\n",
      "Totale= 6\n",
      "Totale= 7\n",
      "Totale= 8\n",
      "Totale= 9\n",
      "Totale= 10\n",
      "Totale= 11\n",
      "Totale= 12\n",
      "Totale= 13\n",
      "Totale= 14\n",
      "Totale= 15\n",
      "Totale= 16\n",
      "Totale= 17\n",
      "Totale= 18\n",
      "Totale= 19\n",
      "Totale= 20\n",
      "Totale= 21\n",
      "Totale Finale= 21\n"
     ]
    }
   ],
   "source": [
    "limite= 20\n",
    "totale= 0\n",
    "while totale <= limite:\n",
    "    numero= 1\n",
    "    totale += numero\n",
    "    print(\"Totale=\", totale)\n",
    "\n",
    "print(\"Totale Finale=\", totale)"
   ]
  },
  {
   "cell_type": "code",
   "execution_count": null,
   "id": "4459b169-b5ab-41ed-b004-a7829660720d",
   "metadata": {},
   "outputs": [],
   "source": [
    "Calcolare e stampare tutte le prime 10 potenze di 2 (e.g., 2⁰, 2¹, 2², …)\n",
    "utilizzando un ciclo while.\n",
    "Calcolare e stampare tutte le prime N potenze di 2 utilizzando un ciclo while,\n",
    "domandando all'utente di inserire N .\n",
    "Calcolare e stampare tutte le potenze di 2 minori di 25000.\n"
   ]
  },
  {
   "cell_type": "code",
   "execution_count": 2,
   "id": "345be5bd-846a-4bb3-83af-ec22879528f0",
   "metadata": {},
   "outputs": [
    {
     "name": "stdout",
     "output_type": "stream",
     "text": [
      "1\n",
      "2\n",
      "4\n",
      "8\n",
      "16\n",
      "32\n",
      "64\n",
      "128\n",
      "256\n",
      "512\n",
      "1024\n",
      "2048\n",
      "Limite raggiunto\n"
     ]
    }
   ],
   "source": [
    "esponente= 0\n",
    "potenza= 2 ** esponente\n",
    "limite= 2 ** 10\n",
    "\n",
    "while potenza <= limite:\n",
    "    potenza= 2 ** esponente\n",
    "    print(potenza)\n",
    "    esponente += 1\n",
    "\n",
    "print (\"Limite raggiunto\")"
   ]
  },
  {
   "cell_type": "code",
   "execution_count": 6,
   "id": "ef59ad91-6204-4174-8403-6f9f7e36fe4c",
   "metadata": {},
   "outputs": [
    {
     "name": "stdin",
     "output_type": "stream",
     "text": [
      "Potenze di 2 non oltre: 5\n"
     ]
    },
    {
     "name": "stdout",
     "output_type": "stream",
     "text": [
      "1\n",
      "2\n",
      "4\n",
      "8\n",
      "16\n",
      "32\n",
      "64\n",
      "Limite raggiunto\n"
     ]
    }
   ],
   "source": [
    "esponente= 0\n",
    "potenza= 2 ** esponente\n",
    "limite= 2 ** int(input(\"Potenze di 2 non oltre:\"))\n",
    "\n",
    "while potenza <= limite:\n",
    "    potenza= 2 ** esponente\n",
    "    print(potenza)\n",
    "    esponente += 1\n",
    "\n",
    "print (\"Limite raggiunto\")"
   ]
  },
  {
   "cell_type": "code",
   "execution_count": 3,
   "id": "d9fc6aa3-a251-4995-ab33-65d177188f54",
   "metadata": {},
   "outputs": [
    {
     "name": "stdout",
     "output_type": "stream",
     "text": [
      "2^ 0 = 1\n",
      "2^ 1 = 2\n",
      "2^ 2 = 4\n",
      "2^ 3 = 8\n",
      "2^ 4 = 16\n",
      "2^ 5 = 32\n",
      "2^ 6 = 64\n",
      "2^ 7 = 128\n",
      "2^ 8 = 256\n",
      "2^ 9 = 512\n",
      "2^ 10 = 1024\n",
      "2^ 11 = 2048\n",
      "2^ 12 = 4096\n",
      "2^ 13 = 8192\n",
      "2^ 14 = 16384\n",
      "2^ 15 = 32768\n",
      "Limite raggiunto\n"
     ]
    }
   ],
   "source": [
    "esponente= 0\n",
    "potenza= 2 ** esponente\n",
    "limite= 25000\n",
    "\n",
    "while potenza <= limite:\n",
    "    potenza= 2 ** esponente\n",
    "    print(\"2^\",esponente, \"=\", potenza)\n",
    "    esponente += 1\n",
    "\n",
    "print (\"Limite raggiunto\")"
   ]
  },
  {
   "cell_type": "code",
   "execution_count": null,
   "id": "c3f7c548-515f-46e0-b0ba-0fe93710391d",
   "metadata": {},
   "outputs": [],
   "source": [
    "Scriviamo un programma che chiede in input all'utente una stringa e visualizza i\n",
    "primi 3 caratteri, seguiti da 3 punti di sospensione e quindi gli ultimi 3 caratteri,\n",
    "similmente all'esercizio della lezione scorsa.\n",
    "Stavolta facciamo attenzione a tutti i casi particolari, ovvero implementare\n",
    "soluzioni ad hoc per stringhe di lunghezza inferiore a 6 caratteri."
   ]
  },
  {
   "cell_type": "code",
   "execution_count": 11,
   "id": "ace20450-d2eb-42b8-a561-cfa44227e68d",
   "metadata": {},
   "outputs": [
    {
     "name": "stdin",
     "output_type": "stream",
     "text": [
      "Metti la stringa: ciao\n"
     ]
    },
    {
     "name": "stdout",
     "output_type": "stream",
     "text": [
      "c ... o\n"
     ]
    }
   ],
   "source": [
    "word= input(\"Metti la stringa:\")\n",
    "count= len(word)\n",
    "if count < 3:\n",
    "    print(word)\n",
    "elif 3 <= count <= 5:\n",
    "    print(word[:1],\"...\",word[-1:])\n",
    "else:\n",
    "    print(word[0:3],\"...\",word[-3:])\n",
    "\n"
   ]
  },
  {
   "cell_type": "code",
   "execution_count": null,
   "id": "92f100e4-8800-493f-9c44-e1506620cf8b",
   "metadata": {},
   "outputs": [],
   "source": [
    "Memorizza e stampa tutti i fattori di un numero dato in input (cioè tutti i numeri\n",
    "primi che, moltiplicati tra di loro, danno il numero di partenza)."
   ]
  },
  {
   "cell_type": "code",
   "execution_count": null,
   "id": "aabd200a-5f2c-4af3-a14a-a4cad972e819",
   "metadata": {},
   "outputs": [],
   "source": [
    "numeri_primi??"
   ]
  },
  {
   "cell_type": "code",
   "execution_count": 4,
   "id": "6f0a5223-410e-42b7-b57c-7e7c4085ca09",
   "metadata": {},
   "outputs": [
    {
     "name": "stdin",
     "output_type": "stream",
     "text": [
      "fornire un numero 678\n"
     ]
    },
    {
     "name": "stdout",
     "output_type": "stream",
     "text": [
      "2\n",
      "3\n",
      "113\n"
     ]
    }
   ],
   "source": [
    "N= int(input(\"fornire un numero\"))\n",
    "divisore =2\n",
    "while N>1:\n",
    "    while N%divisore==0:\n",
    "        print(divisore)\n",
    "        N=N//divisore\n",
    "    divisore=divisore+1"
   ]
  },
  {
   "cell_type": "code",
   "execution_count": 54,
   "id": "558a3bc5-fdad-499b-bdb5-b66116b25251",
   "metadata": {},
   "outputs": [
    {
     "name": "stdout",
     "output_type": "stream",
     "text": [
      "E\n",
      "p\n",
      "i\n",
      "c\n",
      "o\n",
      "d\n",
      "e\n"
     ]
    }
   ],
   "source": [
    "nome_scuola = \"Epicode\"\n",
    "for lettera in nome_scuola:\n",
    "    print(lettera)"
   ]
  },
  {
   "cell_type": "code",
   "execution_count": null,
   "id": "d2322fe4-bb8a-486a-910d-67b887a8bb3c",
   "metadata": {},
   "outputs": [],
   "source": [
    "Calcolare e stampare tutte le prime 10 potenze di 2 utilizzando un ciclo.\n",
    "Per eseguire un certo numero di volte un ciclo si può utilizzare la funzione\n",
    "built-in range(), ad esempio:\n",
    "for numero in range(5):\n",
    "print(numero)\n",
    "0\n",
    "1\n",
    "2\n",
    "3\n",
    "4"
   ]
  },
  {
   "cell_type": "code",
   "execution_count": 9,
   "id": "8baf29ab-815c-4c7d-a112-9cf4f77a1ec0",
   "metadata": {},
   "outputs": [
    {
     "name": "stdout",
     "output_type": "stream",
     "text": [
      "2 ^ 0 = 1\n",
      "2 ^ 1 = 2\n",
      "2 ^ 2 = 4\n",
      "2 ^ 3 = 8\n",
      "2 ^ 4 = 16\n",
      "2 ^ 5 = 32\n",
      "2 ^ 6 = 64\n",
      "2 ^ 7 = 128\n",
      "2 ^ 8 = 256\n",
      "2 ^ 9 = 512\n"
     ]
    }
   ],
   "source": [
    "list(range(10))\n",
    "\n",
    "for esponente in range (10):\n",
    "    potenza= 2** esponente\n",
    "    print(\"2 ^\", esponente, \"=\", potenza)\n"
   ]
  },
  {
   "cell_type": "code",
   "execution_count": null,
   "id": "a94fef1e-fe87-4d53-ba1c-8104191d4cac",
   "metadata": {},
   "outputs": [],
   "source": [
    "Calcolare (ma non stampare) le prime N potenze di K ; ognuna di esse andrà\n",
    "memorizzata in coda a una lista.\n",
    "Alla fine, stampare la lista risultante.\n",
    "Proviamo con diversi valori di K , oppure facciamola inserire all'utente.\n",
    "Realizzare due versioni:\n",
    "• con un ciclo while,\n",
    "• con un ciclo for."
   ]
  },
  {
   "cell_type": "code",
   "execution_count": 5,
   "id": "2b96fd55-386f-4f17-b165-a8264cd1c495",
   "metadata": {},
   "outputs": [
    {
     "name": "stdin",
     "output_type": "stream",
     "text": [
      "N= 5\n",
      "K= 2\n"
     ]
    },
    {
     "name": "stdout",
     "output_type": "stream",
     "text": [
      "2 ^ 0 = 1\n",
      "2 ^ 1 = 2\n",
      "2 ^ 2 = 4\n",
      "2 ^ 3 = 8\n",
      "2 ^ 4 = 16\n"
     ]
    }
   ],
   "source": [
    "N= int(input(\"N=\"))\n",
    "K= int(input (\"K=\"))\n",
    "Risultato_Potenza_N= []\n",
    "for esponente in range(N):\n",
    "    potenza= K ** esponente\n",
    "    risultato= f\"{K} ^ {esponente} = {potenza}\"\n",
    "    print(risultato)"
   ]
  },
  {
   "cell_type": "code",
   "execution_count": null,
   "id": "b6f6ead8-161d-4997-9933-dde34af33b5d",
   "metadata": {},
   "outputs": [],
   "source": [
    "Abbiamo una lista con i guadagni degli ultimi 12 mesi:\n",
    "guadagni = [100, 90, 70, 40, 50, 80, 90, 120, 80, 20, 50,\n",
    "50]\n",
    "usando un costrutto for, calcolare la media dei guadagni e stamparla a video."
   ]
  },
  {
   "cell_type": "code",
   "execution_count": 102,
   "id": "b821551f-06f2-4ffe-8b49-d634932d4e0c",
   "metadata": {},
   "outputs": [
    {
     "name": "stdout",
     "output_type": "stream",
     "text": [
      "Media totale guadagno negli ultimi 12 mesi: 70.0\n"
     ]
    }
   ],
   "source": [
    "guadagni = [100, 90, 70, 40, 50, 80, 90, 120, 80, 20, 50,\n",
    "50]\n",
    "totale_guadagno= 0\n",
    "for guadagno in guadagni:\n",
    "    totale_guadagno += guadagno\n",
    "    media= totale_guadagno/len(guadagni)\n",
    "    \n",
    "print(\"Media totale guadagno negli ultimi 12 mesi:\",media)"
   ]
  },
  {
   "cell_type": "code",
   "execution_count": 99,
   "id": "b2f254b7-a3fe-42b1-a846-6764e6c38433",
   "metadata": {},
   "outputs": [
    {
     "name": "stdout",
     "output_type": "stream",
     "text": [
      "Albergo = 1\n",
      "Sedia = 1\n",
      "Borgo = 0\n",
      "Petalo = 1\n",
      "Eremo = 2\n",
      "Belvedere = 4\n",
      "Semestre = 3\n",
      "Esteta = 2\n",
      "Sosta = 0\n",
      "Orpello = 1\n",
      "Abete = 2\n",
      "Orologio = 0\n",
      "Cesta = 1\n",
      "Ermellino = 2\n"
     ]
    }
   ],
   "source": [
    "parole = [\"Albergo\", \"Sedia\", \"Borgo\", \"Petalo\", \"Eremo\",\n",
    "\"Belvedere\", \"Semestre\", \"Esteta\", \"Sosta\", \"Orpello\",\n",
    "\"Abete\", \"Orologio\", \"Cesta\", \"Ermellino\"]\n",
    "for nome in parole:\n",
    "    print(nome,\"=\", nome.count(\"e\") + nome.count(\"E\"))"
   ]
  },
  {
   "cell_type": "code",
   "execution_count": null,
   "id": "b9f97dca-d4d6-477e-85ff-1ee30fe71ae0",
   "metadata": {},
   "outputs": [],
   "source": [
    "Creiamo un dizionario che assegni ad ogni proprietario la sua auto, sapendo che:\n",
    "• Ada guida una Punto\n",
    "• Ben guida una Multipla\n",
    "• Charlie guida una Golf\n",
    "• Debbie guida una 107\n",
    "\n",
    "Stampiamo il dizionario per intero, e poi l'auto associata a Debbie."
   ]
  },
  {
   "cell_type": "code",
   "execution_count": 124,
   "id": "aed0daed-899d-41b7-a29c-48502c1b0c4d",
   "metadata": {},
   "outputs": [
    {
     "name": "stdout",
     "output_type": "stream",
     "text": [
      "{'Ada': 'Punto', 'Ben': 'Multipla', 'Charlie': 'Golf', 'Debbie': '107'}\n",
      "Ada guida: Punto\n"
     ]
    }
   ],
   "source": [
    "dict_auto = {\"Ada\": \"Punto\", \"Ben\": \"Multipla\",\n",
    "\"Charlie\": \"Golf\", \"Debbie\": \"107\"}\n",
    "print(dict_auto)\n",
    "print(\"Ada guida:\",dict_auto[\"Ada\"])\n"
   ]
  },
  {
   "cell_type": "code",
   "execution_count": null,
   "id": "227c5c4e-0c4a-49ea-a6a3-7122957b0c23",
   "metadata": {},
   "outputs": [],
   "source": [
    "Abbiamo un dizionario che assegna ad ogni proprietario la sua auto:\n",
    "dizionario_auto = {\"Ada\": \"Punto\", \"Ben\": \"Multipla\",\n",
    "\"Charlie\": \"Golf\", \"Debbie\": \"107\"}\n",
    "Con un ciclo, e usando il metodo .values(), stampiamo a video tutte le auto\n",
    "che non sono una Multipla."
   ]
  },
  {
   "cell_type": "code",
   "execution_count": 135,
   "id": "4aeab879-888f-4156-92fe-ef26d6feeaed",
   "metadata": {},
   "outputs": [
    {
     "name": "stdout",
     "output_type": "stream",
     "text": [
      "dict_values(['Punto', 'Multipla', 'Golf', '107'])\n",
      "Ada\n",
      "Ben\n",
      "Charlie\n",
      "Debbie\n"
     ]
    }
   ],
   "source": [
    "dizionario_auto = {\"Ada\": \"Punto\", \"Ben\": \"Multipla\",\n",
    "\"Charlie\": \"Golf\", \"Debbie\": \"107\"}\n",
    "\n",
    "auto= dizionario_auto.values()\n",
    "\n",
    "print(auto)\n",
    "for modello in dizionario_auto:\n",
    "    if modello != \"Multipla\":\n",
    "        print(modello)\n"
   ]
  },
  {
   "cell_type": "code",
   "execution_count": null,
   "id": "87856b3c-33e5-4630-b4a8-07769eeb8b93",
   "metadata": {},
   "outputs": [],
   "source": [
    "Abbiamo due dizionari che assegnano ad ogni proprietario la propria auto:\n",
    "dizionario_auto = {\"Ada\": \"Punto\", \"Ben\": \"Multipla\",\n",
    "\"Charlie\": \"Golf\", \"Debbie\": \"107\", \"Emily\": \"A1\"}\n",
    "nuovi_proprietari = {\"Ben\": \"Polo\", \"Fred\": \"Octavia\",\n",
    "\"Grace\": \"Yaris\", \"Hugh\": \"Clio\"}\n",
    "Aggiornare il dizionario dizionario_auto con i dati contenuti in\n",
    "nuovi_proprietari e stamparlo. Cosa è successo a Ben? "
   ]
  },
  {
   "cell_type": "code",
   "execution_count": 127,
   "id": "16cdac11-9910-4df8-af21-b759dfb44ac8",
   "metadata": {},
   "outputs": [
    {
     "name": "stdout",
     "output_type": "stream",
     "text": [
      "{'Ada': 'Punto', 'Ben': 'Polo', 'Charlie': 'Golf', 'Debbie': '107', 'Emily': 'A1', 'Fred': 'Octavia', 'Grace': 'Yaris', 'Hugh': 'Clio'}\n",
      "dict_items([('Ada', 'Punto'), ('Ben', 'Polo'), ('Charlie', 'Golf'), ('Debbie', '107'), ('Emily', 'A1'), ('Fred', 'Octavia'), ('Grace', 'Yaris'), ('Hugh', 'Clio')])\n",
      "Ben ha una nuova macchina: Polo\n"
     ]
    }
   ],
   "source": [
    "dizionario_auto = {\"Ada\": \"Punto\", \"Ben\": \"Multipla\",\n",
    "\"Charlie\": \"Golf\", \"Debbie\": \"107\", \"Emily\": \"A1\"}\n",
    "nuovi_proprietari = {\"Ben\": \"Polo\", \"Fred\": \"Octavia\",\n",
    "\"Grace\": \"Yaris\", \"Hugh\": \"Clio\"}\n",
    "dizionario_auto.update(nuovi_proprietari)\n",
    "print(dizionario_auto)\n",
    "\n",
    "proprieta=dizionario_auto.items()\n",
    "print(proprieta)\n",
    "print(\"Ben ha una nuova macchina:\",dizionario_auto[\"Ben\"])"
   ]
  },
  {
   "cell_type": "code",
   "execution_count": 117,
   "id": "5b0ee2c3-7271-45c6-90e7-5c750736b998",
   "metadata": {},
   "outputs": [
    {
     "name": "stdout",
     "output_type": "stream",
     "text": [
      "{'Ada': 'Punto', 'Ben': 'Multipla', 'Charlie': 'Golf', 'Debbie': '107', 'Emily': 'A1', 'Ben2': 'Polo', 'Fred': 'Octavia', 'Grace': 'Yaris', 'Hugh': 'Clio'}\n",
      "dict_items([('Ada', 'Punto'), ('Ben', 'Multipla'), ('Charlie', 'Golf'), ('Debbie', '107'), ('Emily', 'A1'), ('Ben2', 'Polo'), ('Fred', 'Octavia'), ('Grace', 'Yaris'), ('Hugh', 'Clio')])\n"
     ]
    }
   ],
   "source": [
    "dizionario_auto = {\"Ada\": \"Punto\", \"Ben\": \"Multipla\",\n",
    "\"Charlie\": \"Golf\", \"Debbie\": \"107\", \"Emily\": \"A1\"}\n",
    "nuovi_proprietari = {\"Ben2\": \"Polo\", \"Fred\": \"Octavia\",\n",
    "\"Grace\": \"Yaris\", \"Hugh\": \"Clio\"}\n",
    "dizionario_auto.update(nuovi_proprietari)\n",
    "print(dizionario_auto)\n",
    "\n",
    "proprieta=dizionario_auto.items()\n",
    "print(proprieta)"
   ]
  },
  {
   "cell_type": "code",
   "execution_count": 13,
   "id": "8f188da3-823d-4955-89e1-b435d40c2212",
   "metadata": {},
   "outputs": [
    {
     "data": {
      "text/plain": [
       "0"
      ]
     },
     "execution_count": 13,
     "metadata": {},
     "output_type": "execute_result"
    }
   ],
   "source": [
    "375 % 3"
   ]
  },
  {
   "cell_type": "code",
   "execution_count": null,
   "id": "71d6baf2-35c6-4c01-8c1f-4351e99c04b9",
   "metadata": {},
   "outputs": [],
   "source": []
  }
 ],
 "metadata": {
  "kernelspec": {
   "display_name": "Python [conda env:base] *",
   "language": "python",
   "name": "conda-base-py"
  },
  "language_info": {
   "codemirror_mode": {
    "name": "ipython",
    "version": 3
   },
   "file_extension": ".py",
   "mimetype": "text/x-python",
   "name": "python",
   "nbconvert_exporter": "python",
   "pygments_lexer": "ipython3",
   "version": "3.13.5"
  }
 },
 "nbformat": 4,
 "nbformat_minor": 5
}
