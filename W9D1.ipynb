{
 "cells": [
  {
   "cell_type": "code",
   "execution_count": 1,
   "id": "51031eaf-7d7e-4af1-94a4-9ec3a6043826",
   "metadata": {},
   "outputs": [
    {
     "name": "stdout",
     "output_type": "stream",
     "text": [
      "Vado al supermercato più vicino a casa e faccio le mie compere.\n",
      "Tiro fuori la mia lista di spesa che include:\n",
      "pane\n",
      "latte\n",
      "frutta\n",
      "verdura\n",
      "gelato\n",
      "petto di pollo\n",
      "Preso tutto quello che c'è nella lista vado a fare la fila in cassa per pagare.\n",
      "La cassiera dice che il mio totale è 29 €.\n",
      "In tasca ho 50 €, e mi viene dato come resto: 21\n"
     ]
    }
   ],
   "source": [
    "#ESER1 tre task scriviamo un algoritmo (in forma testuale)\n",
    "#task 1: fare la spesa\n",
    "lista_spesa= \"pane\\nlatte\\nfrutta\\nverdura\\ngelato\\npetto di pollo\"\n",
    "print(\"Vado al supermercato più vicino a casa e faccio le mie compere.\")\n",
    "print(\"Tiro fuori la mia lista di spesa che include:\")\n",
    "print(lista_spesa)\n",
    "print(\"Preso tutto quello che c'è nella lista vado a fare la fila in cassa per pagare.\")\n",
    "budget= 50\n",
    "costo_spesa= 3+2+5+7+5+7\n",
    "totale_costo= costo_spesa\n",
    "print(\"La cassiera dice che il mio totale è\", totale_costo,\"€.\\nIn tasca ho\", budget,\n",
    "      \"€, e mi viene dato come resto:\", budget-totale_costo)"
   ]
  },
  {
   "cell_type": "code",
   "execution_count": 2,
   "id": "4153c2a1-31d7-4240-8270-c0ecc83f1804",
   "metadata": {},
   "outputs": [
    {
     "name": "stdout",
     "output_type": "stream",
     "text": [
      "29\n"
     ]
    }
   ],
   "source": [
    "print(totale_costo)"
   ]
  },
  {
   "cell_type": "code",
   "execution_count": 3,
   "id": "dbf11d48-3d27-4b8d-8c75-74f64149a4bc",
   "metadata": {},
   "outputs": [
    {
     "name": "stdout",
     "output_type": "stream",
     "text": [
      "Durante il weekend, dedico la mattinata a fare esercizi fisici.\n",
      "Inizio con riscaldamento che dura 10 min, dopo di che si prosegue direttamente con stretching da 10 min.\n",
      "In base alla condizione del corpo, il work out varia tra:\n",
      "yoga\n",
      "pilates\n",
      "calisthenics\n",
      "tutti con una durata di 90 min.\n",
      "Spendo in totale 110 min della mattina, ma varia se voglio dedicare tempo più lungo per stretching\n",
      "Si arriva anche a 130 min.\n"
     ]
    }
   ],
   "source": [
    "#task 2: fare esercizi fisici in minuti\n",
    "workout= 90\n",
    "warm_up= 10\n",
    "stretching= 10\n",
    "totaltime= workout+warm_up+stretching\n",
    "print(\"Durante il weekend, dedico la mattinata a fare esercizi fisici.\") \n",
    "print(\"Inizio con riscaldamento che dura\", warm_up,\"min,\", \n",
    "      \"dopo di che si prosegue direttamente con stretching da\",stretching,\"min.\")\n",
    "print(\"In base alla condizione del corpo, il work out varia tra:\\nyoga\\npilates\\ncalisthenics\\ntutti con una durata di\", workout, \"min.\")\n",
    "print(\"Spendo in totale\",totaltime,\"min della mattina, ma varia se voglio dedicare tempo più lungo per stretching\")\n",
    "print(\"Si arriva anche a\", totaltime+(stretching*2), \"min.\")"
   ]
  },
  {
   "cell_type": "code",
   "execution_count": 4,
   "id": "843552e1-b4d9-4d1f-ae10-05d8a40dcf1b",
   "metadata": {},
   "outputs": [
    {
     "name": "stdin",
     "output_type": "stream",
     "text": [
      " 40\n"
     ]
    },
    {
     "name": "stdout",
     "output_type": "stream",
     "text": [
      "quanto di dura il work out? 40\n"
     ]
    }
   ],
   "source": [
    "workout=input()\n",
    "print(\"quanto di dura il work out?\",workout)"
   ]
  },
  {
   "cell_type": "code",
   "execution_count": 5,
   "id": "bb137401-2457-4cfe-9a95-fe96f128e25e",
   "metadata": {},
   "outputs": [],
   "source": [
    "#task 3: prendere il treno"
   ]
  },
  {
   "cell_type": "code",
   "execution_count": 6,
   "id": "e52fb739-2123-4a55-aed4-0024707e75c4",
   "metadata": {},
   "outputs": [],
   "source": [
    "#ESER2\n",
    "#esercizio_print"
   ]
  },
  {
   "cell_type": "code",
   "execution_count": 7,
   "id": "6308f119-5bdc-4396-89d6-4f7680e3e849",
   "metadata": {},
   "outputs": [
    {
     "name": "stdout",
     "output_type": "stream",
     "text": [
      "25\n"
     ]
    }
   ],
   "source": [
    "studenti= 25\n",
    "print(studenti)"
   ]
  },
  {
   "cell_type": "code",
   "execution_count": 8,
   "id": "45c15fef-0acf-4b1f-a644-bd7718f3c969",
   "metadata": {},
   "outputs": [
    {
     "name": "stdout",
     "output_type": "stream",
     "text": [
      "28\n"
     ]
    }
   ],
   "source": [
    "nuovi_studenti=3\n",
    "totale_studenti= studenti+nuovi_studenti\n",
    "print(totale_studenti)"
   ]
  },
  {
   "cell_type": "code",
   "execution_count": 9,
   "id": "0622a6a9-493d-414d-b816-399e6504bf2a",
   "metadata": {},
   "outputs": [
    {
     "name": "stdout",
     "output_type": "stream",
     "text": [
      "Epicode\n"
     ]
    }
   ],
   "source": [
    "scuola= \"Epicode\"\n",
    "print(scuola)"
   ]
  },
  {
   "cell_type": "code",
   "execution_count": 10,
   "id": "5b844cf7-809f-46fa-bd5e-3dfa6b267dc9",
   "metadata": {},
   "outputs": [
    {
     "name": "stdout",
     "output_type": "stream",
     "text": [
      "36\n"
     ]
    }
   ],
   "source": [
    "x=10\n",
    "print ((x+2)*3)"
   ]
  },
  {
   "cell_type": "code",
   "execution_count": 11,
   "id": "e6710999-e5d4-446b-8e2b-07d764d2da64",
   "metadata": {},
   "outputs": [
    {
     "name": "stdout",
     "output_type": "stream",
     "text": [
      "7\n",
      "5\n",
      "10\n",
      "4\n"
     ]
    }
   ],
   "source": [
    "str1 = \"Windows\"\n",
    "str2 = \"Excel\"\n",
    "str3 = \"Powerpoint\"\n",
    "str4 = \"Word\"\n",
    "\n",
    "print(len(str1))\n",
    "print(len(str2))\n",
    "print(len(str3))\n",
    "print(len(str4))"
   ]
  },
  {
   "cell_type": "code",
   "execution_count": 12,
   "id": "e207daf2-2562-434a-a48d-19361902a8d5",
   "metadata": {},
   "outputs": [
    {
     "name": "stdout",
     "output_type": "stream",
     "text": [
      "total seconds in a year= 31536000\n"
     ]
    }
   ],
   "source": [
    "#Calcolare e stampare a video quanti secondi ci sono in un anno non bisestile.\n",
    "year=365 #days\n",
    "day=24 #hours\n",
    "hour=60 #mins\n",
    "minute=60 #secs\n",
    "\n",
    "print(\"total seconds in a year=\", year*day*hour*minute)\n"
   ]
  },
  {
   "cell_type": "code",
   "execution_count": 14,
   "id": "6bab9704-54f6-41b1-be0c-9c846f6222c6",
   "metadata": {},
   "outputs": [
    {
     "name": "stdout",
     "output_type": "stream",
     "text": [
      "I am studying Python\n",
      "I AM STUDYING PYTHON\n",
      "i am studying python\n"
     ]
    }
   ],
   "source": [
    "my_string = \"I am studying Python\"\n",
    "print(my_string)\n",
    "print(my_string.upper())\n",
    "print(my_string.lower())"
   ]
  },
  {
   "cell_type": "code",
   "execution_count": 15,
   "id": "5953c47b-3346-403a-b3e7-a6c723f25f91",
   "metadata": {},
   "outputs": [
    {
     "name": "stdout",
     "output_type": "stream",
     "text": [
      "I am studying a lot\n"
     ]
    }
   ],
   "source": [
    "new_string=my_string.replace(\"Python\",\"a lot\")\n",
    "print(new_string)"
   ]
  },
  {
   "cell_type": "code",
   "execution_count": 16,
   "id": "f42de57c-8064-4993-a2d1-b43a0a2ebb01",
   "metadata": {},
   "outputs": [
    {
     "name": "stdout",
     "output_type": "stream",
     "text": [
      "I am studying a lot\n"
     ]
    }
   ],
   "source": [
    "print(new_string.strip())"
   ]
  },
  {
   "cell_type": "code",
   "execution_count": 17,
   "id": "afc96a56-31f9-4afb-aa28-ed68c0039511",
   "metadata": {},
   "outputs": [
    {
     "name": "stdout",
     "output_type": "stream",
     "text": [
      "['I', 'am', 'studying', 'a', 'lot']\n"
     ]
    }
   ],
   "source": [
    "print(new_string.split())"
   ]
  },
  {
   "cell_type": "code",
   "execution_count": 18,
   "id": "69834a13-cbe7-4f7b-9496-5e3e9ff71ba2",
   "metadata": {},
   "outputs": [
    {
     "name": "stdout",
     "output_type": "stream",
     "text": [
      "I am studying a lot\n"
     ]
    }
   ],
   "source": [
    "trial=new_string.strip()\n",
    "print(trial)"
   ]
  },
  {
   "cell_type": "code",
   "execution_count": null,
   "id": "ee5d8e16-b579-4837-ac20-a39c9b2fe8e4",
   "metadata": {},
   "outputs": [],
   "source": [
    "studenti = [\"Alex\", \"Bob\", \"Cindy\", \"Dan\", \"Emma\", \"Faith\",\n",
    "\"Grace\", \"Henry\"]\n",
    "corsi = [\"Cybersecurity\", \"Data Analyst\", \"Backend\",\n",
    "\"Frontend\", \"Data Analyst\", \"Backend\"]\n",
    "Emma segue Data Analyst\n",
    "Faith segue Backend\n",
    "Grace segue Frontend\n",
    "Henry segue Cybersecurity\n",
    "alla lista cui mancano dei dati, aggiungiamo i dati mancanti uno alla volta con il\n",
    "metodo .append()"
   ]
  },
  {
   "cell_type": "code",
   "execution_count": 19,
   "id": "5d544ecc-974d-4482-919a-20d457ac6d86",
   "metadata": {},
   "outputs": [],
   "source": [
    "studenti = [\"Alex\", \"Bob\", \"Cindy\", \"Dan\", \"Emma\", \"Faith\",\n",
    "\"Grace\", \"Henry\"]\n",
    "corsi = [\"Cybersecurity\", \"Data Analyst\", \"Backend\",\n",
    "\"Frontend\", \"Data Analyst\", \"Backend\"]"
   ]
  },
  {
   "cell_type": "code",
   "execution_count": 20,
   "id": "596f8707-2efb-4909-a0b8-917ea79520a6",
   "metadata": {},
   "outputs": [
    {
     "name": "stdout",
     "output_type": "stream",
     "text": [
      "Emma Data Analyst\n"
     ]
    }
   ],
   "source": [
    "print(studenti[4],corsi[4])"
   ]
  },
  {
   "cell_type": "code",
   "execution_count": 21,
   "id": "73d83c66-d3c6-447b-bc24-ed68b58fbfcd",
   "metadata": {},
   "outputs": [],
   "source": [
    "corsi.append(\"Frontend\")\n",
    "corsi.append(\"Cybersecurity\")"
   ]
  },
  {
   "cell_type": "code",
   "execution_count": 22,
   "id": "13e87efc-bee6-4048-ad9b-1944a1faf28f",
   "metadata": {},
   "outputs": [
    {
     "name": "stdout",
     "output_type": "stream",
     "text": [
      "['Cybersecurity', 'Data Analyst', 'Backend', 'Frontend', 'Data Analyst', 'Backend', 'Frontend', 'Cybersecurity']\n"
     ]
    }
   ],
   "source": [
    "print(corsi)"
   ]
  },
  {
   "cell_type": "code",
   "execution_count": 23,
   "id": "17feb5f7-ce79-49d5-9ab6-778e125064b3",
   "metadata": {},
   "outputs": [
    {
     "name": "stdout",
     "output_type": "stream",
     "text": [
      "Alex segue Cybersecurity\n",
      "Bob segue Data Analyst\n",
      "Cindy segue Backend\n",
      "Dan segue Frontend\n",
      "Emma segue Data Analyst\n",
      "Faith segue Backend\n",
      "Grace segue Frontend\n",
      "Henry segue Cybersecurity\n"
     ]
    }
   ],
   "source": [
    "print(studenti[0],\"segue\",corsi[0])\n",
    "print(studenti[1],\"segue\",corsi[1])\n",
    "print(studenti[2],\"segue\",corsi[2])\n",
    "print(studenti[3],\"segue\",corsi[3])\n",
    "print(studenti[4],\"segue\",corsi[4])\n",
    "print(studenti[5],\"segue\",corsi[5])\n",
    "print(studenti[6],\"segue\",corsi[6])\n",
    "print(studenti[7],\"segue\",corsi[7])"
   ]
  },
  {
   "cell_type": "code",
   "execution_count": null,
   "id": "d1c700de-ea0d-423b-bdde-dc2a82660f03",
   "metadata": {},
   "outputs": [],
   "source": []
  }
 ],
 "metadata": {
  "kernelspec": {
   "display_name": "Python [conda env:base] *",
   "language": "python",
   "name": "conda-base-py"
  },
  "language_info": {
   "codemirror_mode": {
    "name": "ipython",
    "version": 3
   },
   "file_extension": ".py",
   "mimetype": "text/x-python",
   "name": "python",
   "nbconvert_exporter": "python",
   "pygments_lexer": "ipython3",
   "version": "3.13.5"
  }
 },
 "nbformat": 4,
 "nbformat_minor": 5
}
