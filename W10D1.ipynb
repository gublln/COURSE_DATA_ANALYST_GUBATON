{
 "cells": [
  {
   "cell_type": "markdown",
   "id": "36ce7f2c-410d-426c-8ec5-3f62c3f0876a",
   "metadata": {
    "jp-MarkdownHeadingCollapsed": true
   },
   "source": [
    "`1.`\n",
    "Che tipo di struttura dati o matematica potrebbe rappresentare? `Matrice`Notare che\n",
    "tutte le liste \"interne\" sono della stessa dimensione. Come facciamo per accedere ad un elemento in particolare?"
   ]
  },
  {
   "cell_type": "code",
   "execution_count": null,
   "id": "26ed1e42-613b-4290-a1bf-2923285d259a",
   "metadata": {},
   "outputs": [],
   "source": [
    "mat = [[0, 1, 2, 3, 4],\n",
    "[5, 6, 7, 8, 9],\n",
    "[10, 11, 12, 13, 14]]\n",
    "\n",
    "print(mat[1][2])"
   ]
  },
  {
   "cell_type": "markdown",
   "id": "e49d6761-ebfa-441e-a16d-fe7c3e6b025d",
   "metadata": {},
   "source": [
    "***"
   ]
  },
  {
   "cell_type": "markdown",
   "id": "38cb8fbe-8ee8-4f78-a559-8c8852bfb731",
   "metadata": {},
   "source": [
    "`2.` Importiamo il modulo math e proviamo a usare le funzioni\n",
    "    .sin()\n",
    "    .cos()\n",
    "    .factorial()\n",
    "e la variabile\n",
    "    .pi"
   ]
  },
  {
   "cell_type": "code",
   "execution_count": null,
   "id": "3b52cc06-542f-4ce0-9545-1b2493d849f6",
   "metadata": {},
   "outputs": [],
   "source": [
    "import math"
   ]
  },
  {
   "cell_type": "code",
   "execution_count": null,
   "id": "842a7e88-6089-415f-98b0-a6232ab76c5f",
   "metadata": {},
   "outputs": [],
   "source": [
    "math.sin(40)"
   ]
  },
  {
   "cell_type": "code",
   "execution_count": null,
   "id": "fc40af5e-d8c8-458c-9699-568acb9f291a",
   "metadata": {},
   "outputs": [],
   "source": [
    "math.cos(10)"
   ]
  },
  {
   "cell_type": "code",
   "execution_count": null,
   "id": "26dccc54-8fdf-4dc4-b8e4-776e2a437091",
   "metadata": {},
   "outputs": [],
   "source": [
    "math.factorial(4)"
   ]
  },
  {
   "cell_type": "code",
   "execution_count": null,
   "id": "1d90f0c5-d675-47e2-8130-aeb033fbea7f",
   "metadata": {},
   "outputs": [],
   "source": [
    "math.pi"
   ]
  },
  {
   "cell_type": "markdown",
   "id": "a640f4b7-bd88-4c7c-b029-811319fd894b",
   "metadata": {},
   "source": [
    "***"
   ]
  },
  {
   "cell_type": "markdown",
   "id": "ab3a5555-232e-4ea8-bc5f-23a5ddb723a7",
   "metadata": {},
   "source": [
    "`3.` Qual è e cosa significa il risultato di \"math.degrees(math.pi)\"? `Converts an angle from radians to degrees.`"
   ]
  },
  {
   "cell_type": "code",
   "execution_count": null,
   "id": "9c9ae9c4-cbb5-4697-a110-5c036bd9f985",
   "metadata": {},
   "outputs": [],
   "source": [
    " math.degrees(math.pi)"
   ]
  },
  {
   "cell_type": "code",
   "execution_count": null,
   "id": "a21b532d-d777-4579-833e-4ba94f256597",
   "metadata": {},
   "outputs": [],
   "source": [
    "help(math.degrees)"
   ]
  },
  {
   "cell_type": "markdown",
   "id": "6c058016-10d4-4b3c-83bb-7123fd0e62d2",
   "metadata": {},
   "source": [
    "***"
   ]
  },
  {
   "cell_type": "markdown",
   "id": "3af9d8dd-0c39-45a9-a5f5-82bc21792727",
   "metadata": {},
   "source": [
    "`4.`Consideriamo il seguente dizionario:\n",
    "fatturati_dict = {1997: 12_000, 1998: 15_000,\n",
    "1999: 20_000, 2000: 23_000, 2001: 25_000,\n",
    "2002: 17_000, 2003: 14_000, 2004: 21_000}\n",
    "Consideriamo ora la seguente Series:\n",
    "fatturati_series = pd.Series([12_000, 15_000, 20_000,\n",
    "23_000, 25_000, 17_000, 14_000, 21_000],\n",
    "index=range(1997, 2005))\n",
    "Possiamo accedere alle stesse informazioni nello stesso modo:\n",
    "fatturati_dict[1997]\n",
    "fatturati_series[1997]\n",
    "Dunque qual è la differenza tra i due tipi di dato? `Il Dizionario è un struttura dati built in del python dove viene associato una chiave ad un valore. Series invece è una struttura dati da libreria Pandas con lo stesso scopo, dove si potranno manipolare ed analizare i dati (con indice)`\n",
    "Cosa potremmo fare con la Series che non possiamo fare con il dizionario? `Con series si hanno i dati ordinati, al contrario con Dizionare che può succedere per puro caso`"
   ]
  },
  {
   "cell_type": "code",
   "execution_count": null,
   "id": "1452227f-438c-474b-aab3-f7be6039bfd8",
   "metadata": {},
   "outputs": [],
   "source": [
    "import pandas as pd"
   ]
  },
  {
   "cell_type": "code",
   "execution_count": null,
   "id": "b48d6b92-b56c-4e9d-ae4e-c2959e6c9de8",
   "metadata": {},
   "outputs": [],
   "source": [
    "fatturati_dict = {1997: 12_000, 1998: 15_000, 1999: 20_000, 2000: 23_000, 2001: 25_000, 2002: 17_000, 2003: 14_000, 2004: 21_000} \n",
    "fatturati_series = pd.Series([12_000, 15_000, 20_000, 23_000, 25_000, 17_000, 14_000, 21_000],\n",
    "                             index=range(1997, 2005)) \n",
    "fatturati_dict[1997] \n",
    "fatturati_series[1997] "
   ]
  },
  {
   "cell_type": "markdown",
   "id": "0985f262-ea2b-432f-a1c0-2e5004628022",
   "metadata": {},
   "source": [
    "***"
   ]
  },
  {
   "cell_type": "markdown",
   "id": "53af362c-b64f-42d9-b306-747ebcaab0f7",
   "metadata": {},
   "source": [
    "`5.` * L'azienda Object SpA ha un dataset con tutti gli stipendi dei dipendenti,\n",
    "memorizzato in un ndarray:\n",
    "import numpy as np\n",
    "stipendi = np.array( [100, 200, 300, 400, 500,\n",
    "600, 700, 800, 900, 1000] )\n",
    "L'azienda ci chiede di raddoppiare tutti gli stipendi; facciamolo in due modi:\n",
    "• con un ciclo for\n",
    "• con il masking"
   ]
  },
  {
   "cell_type": "code",
   "execution_count": null,
   "id": "699e122a-a101-42ed-a358-10bbc6bdaa43",
   "metadata": {},
   "outputs": [],
   "source": [
    "import numpy as np \n",
    "stipendi = np.array( [100, 200, 300, 400, 500, 600, 700, 800, 900, 1000] )\n",
    "for stipendio in stipendi:\n",
    "    print(stipendio * 2)\n",
    "\n",
    "print(stipendi * 2)\n",
    "\n",
    "mask = stipendi * 2\n",
    "print(mask)"
   ]
  },
  {
   "cell_type": "markdown",
   "id": "d6374300-6d30-46c7-8859-8100b9b61321",
   "metadata": {},
   "source": [
    "***"
   ]
  },
  {
   "cell_type": "markdown",
   "id": "456f5ec2-3549-4dd0-bd6c-a02c17103c38",
   "metadata": {},
   "source": [
    "`6.`Scrivere un programma che, data una lista di numeri, fornisca in output i tre\n",
    "numeri più grandi; gestire il caso in cui la lista sia più corta di tre, e quando uno\n",
    "o più dei numeri selezionati sono uguali. `si ordine i dati/lista poi si stampa il necessario con slicing`"
   ]
  },
  {
   "cell_type": "code",
   "execution_count": null,
   "id": "77522b84-118d-463c-8379-05d731ee3fa4",
   "metadata": {},
   "outputs": [],
   "source": [
    "numeri = [234, 34, 7, 9, 589, 43, 45, 87, 82, 9]\n",
    "numeri = sorted(numeri)\n",
    "\n",
    "if len(numeri) <= 3:\n",
    "    print(numeri)\n",
    "else:\n",
    "    print(numeri[-3:])"
   ]
  },
  {
   "cell_type": "code",
   "execution_count": null,
   "id": "bca77d47-872b-49f6-b1fd-b8b0dec1523f",
   "metadata": {},
   "outputs": [],
   "source": [
    "numeri = [234, 34, 7, 9, 589, 43, 45, 87, 82, 9]\n",
    "numeri = sorted(numeri, reverse = True)\n",
    "numeri = list(set(numeri)) #eliminazione duplicati\n",
    "print(numeri[:3])\n",
    "numeri\n"
   ]
  },
  {
   "cell_type": "code",
   "execution_count": null,
   "id": "2fa6ece4-7327-4710-b3f1-9959b1595f90",
   "metadata": {},
   "outputs": [],
   "source": [
    "numeri = list(range(10))\n",
    "\n",
    "for numero in numeri:\n",
    "    if numero > 3:\n",
    "        print(numero)"
   ]
  },
  {
   "cell_type": "markdown",
   "id": "6bde612a-0d1b-4a9e-a5d7-501f45309319",
   "metadata": {},
   "source": [
    "***"
   ]
  },
  {
   "cell_type": "markdown",
   "id": "75e8154d-16f4-4066-9a65-cc70bbcb2ffd",
   "metadata": {},
   "source": [
    "`7.`Scrivere un programma che\n",
    "• in input acquisisce una lista di numeri e un numero K\n",
    "• in output, dovrà restituire la media di tutti i numeri nella lista maggiori o\n",
    "uguali a K\n",
    "• se non ce ne dovesse essere nessuno, dovrà stampare a schermo un\n",
    "messaggio adeguato."
   ]
  },
  {
   "cell_type": "code",
   "execution_count": 3,
   "id": "f254ba9a-75e6-4b61-aa53-ff718a856eaa",
   "metadata": {},
   "outputs": [
    {
     "name": "stdout",
     "output_type": "stream",
     "text": [
      "[ 34   7   9 234  43  45 589  82  87]\n",
      "la media dei numeri >= 60 è 0.44\n"
     ]
    }
   ],
   "source": [
    "import numpy as np\n",
    "numeri = np.array([34, 7, 9, 234, 43, 45, 589, 82, 87])\n",
    "K = 60\n",
    "numeri_magg = numeri >= K\n",
    "\n",
    "media = round(numeri_magg.mean(),2) #calcolo della media\n",
    "print(numeri)\n",
    "print(f\"la media dei numeri >= {K} è {media}\")\n"
   ]
  },
  {
   "cell_type": "markdown",
   "id": "26d72603-9dd3-404d-aa7b-04f415fef4db",
   "metadata": {},
   "source": [
    "***"
   ]
  },
  {
   "cell_type": "markdown",
   "id": "5c27c3dc-e8fa-49e9-b58d-3622b4471ef0",
   "metadata": {},
   "source": [
    "`8.`Scrivere un programma che, data una lista di numeri, come output stamperà lo\n",
    "stesso numero di asterischi su righe diverse, ottenendo una semplice\n",
    "visualizzazione grafica\n",
    "Esempio, supponendo di avere il seguente input:\n",
    "numeri = [5, 2, 3, 4]\n",
    "L'output sarà:\n",
    "[*****, **, ***\n",
    "****]"
   ]
  },
  {
   "cell_type": "code",
   "execution_count": 8,
   "id": "f2955e33-51ab-4c3c-9bb9-eafcf03c7a86",
   "metadata": {},
   "outputs": [
    {
     "name": "stdout",
     "output_type": "stream",
     "text": [
      "****\n",
      "**********************************\n",
      "****\n",
      "*\n",
      "***\n"
     ]
    }
   ],
   "source": [
    "#numeri = int(input(\"Scrivere una lista di numeri separati dalla virgola:\"))\n",
    "numeri = [4,34,4,1,3,]\n",
    "\n",
    "for numero in numeri:\n",
    "    print(\"*\" * numero)"
   ]
  },
  {
   "cell_type": "markdown",
   "id": "ad4dfb9d-054b-4965-b98c-ca58410c5ea1",
   "metadata": {},
   "source": [
    "***"
   ]
  },
  {
   "cell_type": "markdown",
   "id": "275d91a3-209c-43f7-9d8c-2d8a41f35ef1",
   "metadata": {},
   "source": [
    "`9.`Abbiamo una lista di codici fiscali:\n",
    "lista_cf = [\"ABCDEF95G01A123B\", \"GHIJKL91M02A321C\",\n",
    "\"MNOPQR89S03A456D\", \"STUVWX95Z04A654E\", \"XYZABC01D05A789F\",\n",
    "\"DEFGHI95J06A987G\"]\n",
    "• trovare i codici fiscali che contengono \"95\", metterli in una lista, e alla fine\n",
    "stamparla;\n",
    "• inoltre, per ognuno di essi, stampare a video i caratteri relativi al nome e\n",
    "quelli relativi al cognome."
   ]
  },
  {
   "cell_type": "code",
   "execution_count": 11,
   "id": "1d393cc4-7597-40c1-bc7c-6ccd2d3bb6d9",
   "metadata": {},
   "outputs": [
    {
     "name": "stdout",
     "output_type": "stream",
     "text": [
      "ABCDEF95G01A123B\n",
      "STUVWX95Z04A654E\n",
      "DEFGHI95J06A987G\n"
     ]
    }
   ],
   "source": [
    "lista_cf = [\"ABCDEF95G01A123B\", \"GHIJKL91M02A321C\", \"MNOPQR89S03A456D\", \"STUVWX95Z04A654E\", \"XYZABC01D05A789F\", \"DEFGHI95J06A987G\"]\n",
    "\n",
    "for cf in lista_cf:\n",
    "    if \"95\" in cf:\n",
    "        print(cf)"
   ]
  },
  {
   "cell_type": "markdown",
   "id": "420d5162-df16-4336-9346-7a4ad5ace5b0",
   "metadata": {},
   "source": [
    "***"
   ]
  },
  {
   "cell_type": "markdown",
   "id": "6aa56307-855c-485f-b5bf-0781412db695",
   "metadata": {},
   "source": [
    "`10.`Abbiamo tre liste della stessa lunghezza, dove ogni elemento nella medesima posizione si\n",
    "riferisce ai dati dello stesso studente:\n",
    "studenti = [\"Alex\", \"Bob\", \"Cindy\", \"Dan\", \"Emma\", \"Faith\",\n",
    "\"Grace\", \"Henry\"]\n",
    "corsi = [\"Cybersecurity\", \"Data Analyst\", \"Backend\", \"Frontend\",\n",
    "\"Data Analyst\", \"Backend\", \"Frontend\", \"Cybe§rsecurity\"]\n",
    "edizioni = [1, 2, 3, 2, 2, 1, 3, 3]\n",
    "• Stampare a video tutti e soli gli studenti che frequentano una prima edizione; non tutti\n",
    "i dati potrebbero essere necessari."
   ]
  },
  {
   "cell_type": "code",
   "execution_count": 16,
   "id": "c33719b9-425d-453f-9bd7-4a5b8f0b556d",
   "metadata": {},
   "outputs": [
    {
     "name": "stdout",
     "output_type": "stream",
     "text": [
      "Alex da parte del edizione 1 nel corso 'Cybersecurity'.\n",
      "Faith da parte del edizione 1 nel corso 'Backend'.\n"
     ]
    }
   ],
   "source": [
    "studenti = [\"Alex\", \"Bob\", \"Cindy\", \"Dan\", \"Emma\", \"Faith\", \"Grace\", \"Henry\"] \n",
    "corsi = [\"Cybersecurity\", \"Data Analyst\", \"Backend\", \"Frontend\", \"Data Analyst\", \"Backend\", \"Frontend\", \"Cybersecurity\"] \n",
    "edizioni = [1, 2, 3, 2, 2, 1, 3, 3]\n",
    "\n",
    "for indice in range(len(studenti)):\n",
    "    edizione = edizioni[indice]\n",
    "    studente = studenti[indice]\n",
    "    corso = corsi[indice]\n",
    "    if edizione == 1:\n",
    "        print(f\"{studente} da parte del edizione {edizione} nel corso '{corso}'.\")"
   ]
  },
  {
   "cell_type": "markdown",
   "id": "18e058bf-2d5b-4234-87b8-1b31392f6605",
   "metadata": {},
   "source": [
    "***"
   ]
  },
  {
   "cell_type": "markdown",
   "id": "fab78ac4-6767-4ae8-abed-f554789f068a",
   "metadata": {},
   "source": [
    "`11.`L'azienda Object SpA ha creato una lista di quanti oggetti ha venduto ogni\n",
    "mese nell'ultimo anno:\n",
    "lst = [2000, 5500, 7200, 4320, 1280, 1900,\n",
    "2500, 3900, 6410, 8150, 7100, 5350]\n",
    "trasformiamola in un array NumPy (casting):\n",
    "lst = np.array(lst)\n",
    "e rispondiamo alle domande del CEO della Object SpA:\n",
    "• qual è stata la vendita massima mensile? E quella minima?\n",
    "• quali sono le vendite mensili maggiori di 5000 oggetti? E quante ne sono?\n",
    "• quali sono le vendite minori di 3000 oggetti?\n",
    "• in media quanti oggetti sono stati venduti al mese?"
   ]
  },
  {
   "cell_type": "code",
   "execution_count": null,
   "id": "1561b4e1-8548-4891-91ed-2ef264f50a69",
   "metadata": {},
   "outputs": [],
   "source": [
    "import numpy as np"
   ]
  },
  {
   "cell_type": "code",
   "execution_count": null,
   "id": "15f486b7-91c2-4fc7-9cf8-33fb039af28b",
   "metadata": {},
   "outputs": [],
   "source": [
    "lst = [2000, 5500, 7200, 4320, 1280, 1900, 2500, 3900, 6410, 8150, 7100, 5350]\n",
    "lst = np.array(lst)\n",
    "type(lst)"
   ]
  },
  {
   "cell_type": "code",
   "execution_count": null,
   "id": "c4952a6d-efb1-41d8-b2aa-8b68cdedc661",
   "metadata": {},
   "outputs": [],
   "source": [
    "vendita_max = np.max(lst)\n",
    "vendita_min = np.min(lst)\n",
    "\n",
    "print(f\"La vendita massima è stata {vendita_max}\")\n",
    "print(f\"La vendita minima è stata {vendita_min}\")\n",
    "\n",
    "vend_magg = lst[lst > 5000]\n",
    "vend_min = lst[lst < 3000]\n",
    "\n",
    "vend_media = np.mean(lst)\n",
    "vend_media = round(vend_media,2)\n",
    "\n",
    "print(f\"Le vendite maggiori di  5000 sono state: {vend_magg}.\")\n",
    "print(f\"Le vendite maggiori di  5000 sono in totale: {vend_magg.size}.\")\n",
    "print(f\"Le vendite minori di  3000 sono state: {vend_min}.\")\n",
    "print(f\"Le vendite minori di  3000 sono  in totale: {vend_min.size}.\")\n",
    "\n",
    "print(f\"Di media sono stati venduti {vend_media} oggetti\")"
   ]
  },
  {
   "cell_type": "markdown",
   "id": "84b7596f-47dc-4523-8e1d-4a75cd84786c",
   "metadata": {},
   "source": [
    "***"
   ]
  },
  {
   "cell_type": "markdown",
   "id": "4f09967c-7308-4cac-90f0-1df7ee8ffc9a",
   "metadata": {},
   "source": [
    "`12.`Abbiamo una lista di stringhe di prezzi in dollari, che erroneamente sono stati\n",
    "scritti con il simbolo dell'euro:\n",
    "prezzi = [\"100 €\", \"200 €\", \"500 €\", \"10 €\", \"50 €\", \"70 €\"]\n",
    "cambiare il simbolo dell'euro (€) in quello del dollaro ($) per ogni stringa nella\n",
    "lista; il risultato sarà memorizzato in un'altra lista."
   ]
  },
  {
   "cell_type": "code",
   "execution_count": 18,
   "id": "d69a3655-39a5-411d-8255-287080e7d788",
   "metadata": {},
   "outputs": [
    {
     "name": "stdout",
     "output_type": "stream",
     "text": [
      "['100 $', '200 $', '500 $', '10 $', '50 $', '70 $']\n"
     ]
    }
   ],
   "source": [
    "prezzi = [\"100 €\", \"200 €\", \"500 €\", \"10 €\", \"50 €\", \"70 €\"]\n",
    "\n",
    "prezzi_dollari = []\n",
    "\n",
    "for prezzo in prezzi:\n",
    "    prezzo_dollari = prezzo.replace(\"€\",\"$\")\n",
    "    prezzi_dollari.append(prezzo_dollari)\n",
    "\n",
    "print(prezzi_dollari)\n"
   ]
  },
  {
   "cell_type": "markdown",
   "id": "5b7ea063-9439-449e-904a-271bedb297de",
   "metadata": {},
   "source": [
    "`13.`Abbiamo una lista di studenti:\n",
    "studenti = [\"Alex\", \"Bob\", \"Cindy\", \"Dan\", \"Emma\", \"Faith\",\n",
    "\"Grace\", \"Henry\", \"Isabelle\", \"John\"]\n",
    "vogliamo dividere gli studenti in due squadre per un campionato di Uno nel\n",
    "seguente modo: selezioneremo i nomi in posizione pari per un squadra, e i nomi\n",
    "in posizione dispari per l'altra.\n",
    "Creiamo due liste per ogni squadra, e alla fine visualizziamole."
   ]
  },
  {
   "cell_type": "code",
   "execution_count": 20,
   "id": "006ef377-1991-45d7-b37c-3c7decd73e0a",
   "metadata": {},
   "outputs": [
    {
     "name": "stdout",
     "output_type": "stream",
     "text": [
      "['Alex', 'Cindy', 'Emma', 'Grace', 'Isabelle']\n",
      "['Bob', 'Dan', 'Faith', 'Henry', 'John']\n"
     ]
    }
   ],
   "source": [
    "studenti = [\"Alex\", \"Bob\", \"Cindy\", \"Dan\", \"Emma\", \"Faith\", \"Grace\", \"Henry\", \"Isabelle\", \"John\"]\n",
    "\n",
    "sq_1 = studenti[::2]\n",
    "sq_2 = studenti[1::2]\n",
    "\n",
    "print(sq_1)\n",
    "print(sq_2)"
   ]
  },
  {
   "cell_type": "code",
   "execution_count": null,
   "id": "c4d18b15-63fd-48d3-8243-b54219b26b48",
   "metadata": {},
   "outputs": [],
   "source": []
  },
  {
   "cell_type": "code",
   "execution_count": 23,
   "id": "4c1d7c3a-5468-4f20-8a6a-fccfbad90d08",
   "metadata": {},
   "outputs": [
    {
     "name": "stdout",
     "output_type": "stream",
     "text": [
      "['Alex', 'Cindy', 'Emma', 'Grace', 'Isabelle']\n",
      "['Bob', 'Dan', 'Faith', 'Henry', 'John']\n"
     ]
    }
   ],
   "source": [
    "studenti = [\"Alex\", \"Bob\", \"Cindy\", \"Dan\", \"Emma\", \"Faith\", \"Grace\", \"Henry\", \"Isabelle\", \"John\"]\n",
    "\n",
    "sq1 = []\n",
    "sq2 = []\n",
    "for indice in range(len(studenti)):\n",
    "    studente = studenti[indice]\n",
    "    if indice % 2 == 0: #se l'indice è divisibile a 2 con risultato booleano (posizione pari)\n",
    "        sq1.append(studente)\n",
    "    else: #posiz dispari\n",
    "        sq2.append (studente)\n",
    "\n",
    "print(sq1)\n",
    "print(sq2)    "
   ]
  },
  {
   "cell_type": "markdown",
   "id": "933c0272-387b-421e-bde7-4d21ac993139",
   "metadata": {},
   "source": [
    "`14.`Abbiamo una lista con i guadagni degli ultimi 12 mesi (supponiamo da Gennaio a\n",
    "Dicembre):\n",
    "guadagni = [100, 90, 70, 40, 50, 80, 90, 120, 80, 20, 50, 50]\n",
    "dobbiamo confrontare, stampando tutto a video, il guadagno di ogni mese con la media\n",
    "dei guadagni precedenti, e specificare nell'output se il guadagno attuale è maggiore o\n",
    "minore della media dei precedenti.\n",
    "Esempio di un possibile output:\n",
    "Mese 1: 100 €\n",
    "Mese 2: 90 € (media prec: 100 € - il guadagno attuale è minore)\n",
    "Mese 3: 70 € (media prec: 95 € - il guadagno attuale è minore)"
   ]
  },
  {
   "cell_type": "code",
   "execution_count": 37,
   "id": "149f8b24-3b04-4e9f-8078-c61a7e39b456",
   "metadata": {},
   "outputs": [
    {
     "name": "stdout",
     "output_type": "stream",
     "text": [
      "Mese 1: 100€\n",
      "Mese 2: 90€. La media dei mesi prededenti è 100.0€\n",
      "    il guadagno è minore\n",
      "Mese 3: 70€. La media dei mesi prededenti è 95.0€\n",
      "    il guadagno è minore\n",
      "Mese 4: 40€. La media dei mesi prededenti è 86.67€\n",
      "    il guadagno è minore\n",
      "Mese 5: 50€. La media dei mesi prededenti è 75.0€\n",
      "    il guadagno è minore\n",
      "Mese 6: 80€. La media dei mesi prededenti è 70.0€\n",
      "    il guadagno è maggiore\n",
      "Mese 7: 90€. La media dei mesi prededenti è 71.67€\n",
      "    il guadagno è maggiore\n",
      "Mese 8: 120€. La media dei mesi prededenti è 74.29€\n",
      "    il guadagno è maggiore\n",
      "Mese 9: 80€. La media dei mesi prededenti è 80.0€\n",
      "    il guadagno è maggiore\n",
      "Mese 10: 20€. La media dei mesi prededenti è 80.0€\n",
      "    il guadagno è minore\n",
      "Mese 11: 50€. La media dei mesi prededenti è 74.0€\n",
      "    il guadagno è minore\n",
      "Mese 12: 50€. La media dei mesi prededenti è 71.82€\n",
      "    il guadagno è minore\n"
     ]
    }
   ],
   "source": [
    "guadagni = [100, 90, 70, 40, 50, 80, 90, 120, 80, 20, 50, 50]\n",
    "\n",
    "prece_guada = []\n",
    "mese = 1\n",
    "\n",
    "for guadagno in guadagni:\n",
    "    if len(prece_guada) == 0:\n",
    "        print(f\"Mese {mese}: {guadagno}€\")\n",
    "    else:\n",
    "        media_mese_prece = round( np.mean(prece_guada), 2)\n",
    "        print(f\"Mese {mese}: {guadagno}€. La media dei mesi prededenti è {media_mese_prece}€\")\n",
    "        if guadagno < media_mese_prece:\n",
    "            print(f\"    il guadagno è minore\")\n",
    "        else:\n",
    "            print(f\"    il guadagno è maggiore\")\n",
    "    prece_guada.append(guadagno)\n",
    "    mese += 1\n",
    "    "
   ]
  },
  {
   "cell_type": "markdown",
   "id": "7095c32b-87cc-42a8-8ae0-988c076974a2",
   "metadata": {},
   "source": [
    "***"
   ]
  }
 ],
 "metadata": {
  "kernelspec": {
   "display_name": "Python [conda env:base] *",
   "language": "python",
   "name": "conda-base-py"
  },
  "language_info": {
   "codemirror_mode": {
    "name": "ipython",
    "version": 3
   },
   "file_extension": ".py",
   "mimetype": "text/x-python",
   "name": "python",
   "nbconvert_exporter": "python",
   "pygments_lexer": "ipython3",
   "version": "3.13.5"
  }
 },
 "nbformat": 4,
 "nbformat_minor": 5
}
